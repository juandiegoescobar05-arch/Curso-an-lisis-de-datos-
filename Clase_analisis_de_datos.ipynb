{
  "nbformat": 4,
  "nbformat_minor": 0,
  "metadata": {
    "colab": {
      "provenance": [],
      "authorship_tag": "ABX9TyO4VccxA051G88e82GrUMUC",
      "include_colab_link": true
    },
    "kernelspec": {
      "name": "python3",
      "display_name": "Python 3"
    },
    "language_info": {
      "name": "python"
    }
  },
  "cells": [
    {
      "cell_type": "markdown",
      "metadata": {
        "id": "view-in-github",
        "colab_type": "text"
      },
      "source": [
        "<a href=\"https://colab.research.google.com/github/juandiegoescobar05-arch/Curso-an-lisis-de-datos-/blob/main/Clase_analisis_de_datos.ipynb\" target=\"_parent\"><img src=\"https://colab.research.google.com/assets/colab-badge.svg\" alt=\"Open In Colab\"/></a>"
      ]
    },
    {
      "cell_type": "markdown",
      "source": [
        "Inicio en el Lenguaje de Python"
      ],
      "metadata": {
        "id": "cUcGPt6Wq8pg"
      }
    },
    {
      "cell_type": "code",
      "source": [
        "Nombre = \"Juan\" # Defino tipo de variable de texto tipo strint (str)\n",
        "Apellido = \"Escobar\"\n",
        "Edad = 20 #Defino tipo de variable numero enteros tipo (int)\n",
        "pi = 3.1416 #Defino tipo de variable numeros con deciames tipo(float)\n",
        "\n",
        "print(\"Mi Nombre es\",Nombre,Apellido,\"y mi edad es de\",Edad,\"años\")"
      ],
      "metadata": {
        "colab": {
          "base_uri": "https://localhost:8080/"
        },
        "id": "3IaBckbhOl6E",
        "outputId": "799cb1e4-5a13-4fd2-948d-2ecf46e29017"
      },
      "execution_count": null,
      "outputs": [
        {
          "output_type": "stream",
          "name": "stdout",
          "text": [
            "Mi Nombre es Juan Escobar y mi edad es de 20 años\n"
          ]
        }
      ]
    },
    {
      "cell_type": "code",
      "source": [
        "nombre = \"Python\"\n",
        "version = 3\n",
        "popularidad = 9.9\n",
        "\n",
        "print(nombre,\"version\",version,\"tiene una popularidad de\",popularidad)\n",
        "print(\"pero sigue sin tener pareja... porque todas las variables mienten \")"
      ],
      "metadata": {
        "colab": {
          "base_uri": "https://localhost:8080/"
        },
        "id": "V9eJ8vaWVwOO",
        "outputId": "d5f0b603-813c-4144-e3ba-7c15bd20c24c"
      },
      "execution_count": null,
      "outputs": [
        {
          "output_type": "stream",
          "name": "stdout",
          "text": [
            "Python version 3 tiene una popularidad de 9.9\n",
            "pero sigue sin tener pareja... porque todas las variables mienten \n"
          ]
        }
      ]
    },
    {
      "cell_type": "markdown",
      "source": [
        "Operaciones Basicas Matematicas"
      ],
      "metadata": {
        "id": "wNaPalfVq3Kj"
      }
    },
    {
      "cell_type": "code",
      "source": [
        "#Sumatoria de datos\n",
        "\n",
        "A= 12\n",
        "B= 9\n",
        "C= A+B\n",
        "print(C)\n",
        "\n",
        "A= 12\n",
        "B= 9\n",
        "C= A*B\n",
        "print(C)\n",
        "\n",
        "A= 12\n",
        "B= 9\n",
        "C= 12/9\n",
        "print(C) #Solo un slash da decimales(float)\n",
        "\n",
        "A= 12\n",
        "B= 9\n",
        "C= 12//9\n",
        "print(C) #Dos slash da numero entero\n",
        "\n",
        "print(12**9) #Potencia del numero"
      ],
      "metadata": {
        "colab": {
          "base_uri": "https://localhost:8080/"
        },
        "id": "m3hr4Hh1QfPb",
        "outputId": "028944ee-709d-4376-8b53-67f2e5abe3d8"
      },
      "execution_count": null,
      "outputs": [
        {
          "output_type": "stream",
          "name": "stdout",
          "text": [
            "21\n",
            "108\n",
            "1.3333333333333333\n",
            "1\n",
            "5159780352\n"
          ]
        }
      ]
    },
    {
      "cell_type": "markdown",
      "source": [
        "Listas, Tuples, Diccionarios"
      ],
      "metadata": {
        "id": "2gDpn52luO5J"
      }
    },
    {
      "cell_type": "code",
      "source": [
        "#Variables de tipos de datos LISTAS\n",
        "Datos=['medias','pantalones',6 , 3.141592, 'Articulos de aseo']\n",
        "print(Datos)\n",
        "\n",
        "print(Datos[3])  # Publica la unfomración almacenada en la lista Datos en la ubicación 3\n",
        "print(Datos[-1]) #Publique el ultimo de la lista"
      ],
      "metadata": {
        "colab": {
          "base_uri": "https://localhost:8080/"
        },
        "id": "WOif61fxuWLn",
        "outputId": "bb078f83-54af-457a-b796-8b0938aee22d"
      },
      "execution_count": null,
      "outputs": [
        {
          "output_type": "stream",
          "name": "stdout",
          "text": [
            "['medias', 'pantalones', 6, 3.141592, 'Articulos de aseo']\n",
            "3.141592\n",
            "Articulos de aseo\n"
          ]
        }
      ]
    },
    {
      "cell_type": "code",
      "source": [
        "Datos[0]= Nombre\n",
        "Datos[-1]= Apellido #Permite editar la lista con datos de code anteriores\n",
        "print(Datos)"
      ],
      "metadata": {
        "colab": {
          "base_uri": "https://localhost:8080/"
        },
        "id": "BCuGpjWIrvA4",
        "outputId": "6b831e45-7b20-47a7-f8d0-beafbbd20c16"
      },
      "execution_count": null,
      "outputs": [
        {
          "output_type": "stream",
          "name": "stdout",
          "text": [
            "['Juan', 'pantalones', 6, 3.141592, 'Escobar']\n"
          ]
        }
      ]
    },
    {
      "cell_type": "code",
      "source": [
        "#Propiedades de la lista\n",
        "Datos.append(Edad) #Permite agregar datos a la lista\n",
        "print(Datos)\n",
        "\n",
        "Datos.insert(4,\"Viper\") #Permite adicionar info a la lista\n",
        "print(Datos)\n",
        "Datos.remove(\"Viper\") #Remueve y elimina el dato indicado\n",
        "print(Datos)\n",
        "\n",
        "Datos.clear() #Elimina todos los datos de la lista\n",
        "print(Datos)"
      ],
      "metadata": {
        "colab": {
          "base_uri": "https://localhost:8080/"
        },
        "id": "aht70asv1TJq",
        "outputId": "c3463c51-4bc4-43fe-f1b3-97916e6aa6f6"
      },
      "execution_count": null,
      "outputs": [
        {
          "output_type": "stream",
          "name": "stdout",
          "text": [
            "['Juan', 'pantalones', 6, 3.141592, 'Escobar', 20]\n",
            "['Juan', 'pantalones', 6, 3.141592, 'Viper', 'Escobar', 20]\n",
            "['Juan', 'pantalones', 6, 3.141592, 'Escobar', 20]\n",
            "[]\n"
          ]
        }
      ]
    },
    {
      "cell_type": "code",
      "source": [
        "#Variables de tipos de datos Tuples\n",
        "Titulos= ('Nombre','Apellido','Sexo','Fecha de Nacimiento','G239P')\n",
        "print(Titulos)\n",
        "#Propiedades de Tuples\n",
        "Titulos.index('Sexo') #Retorna o indica la poscion del dato que se busca\n",
        "print(Titulos.index('Sexo'))\n",
        "print(Titulos.count('Movil')) #Indica cuantas veces aparece ese dato en espescifico\n",
        "\n",
        "#Propiedad tipo Diccionario\n",
        "Diccionario={'Elemento':'Casa'\n",
        "             ,'Ciudad':'Cali'\n",
        "               ,'Color':\"Cafe\"\n",
        "                 ,'Pais':'Colombia'}\n",
        "print(Diccionario)\n",
        "print(Diccionario.get('Pais')) #Me da el valor de la etiqueta que se pide\n",
        "print(Diccionario.keys()) #Nos da los titulos\n",
        "print(Diccionario.values()) #Nos da el contenido de los titulos-Etiquetas\n",
        "\n",
        "Diccionario.update({'Año':2025})"
      ],
      "metadata": {
        "colab": {
          "base_uri": "https://localhost:8080/"
        },
        "id": "4bc6c3Vk4REq",
        "outputId": "24c9bc39-bb38-4674-c657-980e0c3f33e3"
      },
      "execution_count": null,
      "outputs": [
        {
          "output_type": "stream",
          "name": "stdout",
          "text": [
            "('Nombre', 'Apellido', 'Sexo', 'Fecha de Nacimiento', 'G239P')\n",
            "2\n",
            "0\n",
            "{'Elemento': 'Casa', 'Ciudad': 'Cali', 'Color': 'Cafe', 'Pais': 'Colombia'}\n",
            "Colombia\n",
            "dict_keys(['Elemento', 'Ciudad', 'Color', 'Pais'])\n",
            "dict_values(['Casa', 'Cali', 'Cafe', 'Colombia'])\n"
          ]
        }
      ]
    },
    {
      "cell_type": "code",
      "source": [
        "# Funciones de ingreso de informacion\n",
        "Nombre= input('Ingrese su Nombre:')\n",
        "\n",
        "#Funcion de Salida\n",
        "print('Su nombre es',Nombre)"
      ],
      "metadata": {
        "colab": {
          "base_uri": "https://localhost:8080/"
        },
        "id": "xMWzhnMGKmIa",
        "outputId": "4a306ab5-41a7-4eeb-95b1-326f23bed254"
      },
      "execution_count": null,
      "outputs": [
        {
          "output_type": "stream",
          "name": "stdout",
          "text": [
            "Ingrese su Nombre:Juan\n",
            "Su nombre es Juan\n"
          ]
        }
      ]
    },
    {
      "cell_type": "markdown",
      "source": [
        "Ejercicio\n",
        "\n",
        "Realizar un programa que lea los elementos de una lista (Nombre,edad,ciuadad de una persona)y los almacene en un diccionario"
      ],
      "metadata": {
        "id": "471qbfU7KJPT"
      }
    },
    {
      "cell_type": "code",
      "source": [
        "Nombre= input('Ingrese Su Nombre')\n",
        "Ciudad= input('¿De donde es? ')\n",
        "Edad= input('Por ultimo cual es su edad?')\n",
        "\n",
        "print('Su nombre es', Nombre)\n",
        "print('El es de', Ciudad)\n",
        "print('Su edad es',Edad)\n",
        "\n",
        "Diccionario=({'Nombre':'Juan','Ciudad':'Bogota','Edad':20})\n",
        "print(Diccionario)\n",
        "\n"
      ],
      "metadata": {
        "colab": {
          "base_uri": "https://localhost:8080/"
        },
        "id": "VQTM25M6KUV-",
        "outputId": "65e68836-56f1-4be8-c4f9-d2279a39d2b9"
      },
      "execution_count": null,
      "outputs": [
        {
          "output_type": "stream",
          "name": "stdout",
          "text": [
            "Ingrese Su NombreJuan\n",
            "¿De donde es? Bogota\n",
            "Por ultimo cual es su edad?20 años\n",
            "Su nombre es Juan\n",
            "El es de Bogota\n",
            "Su edad es 20 años\n",
            "{'Nombre': 'Juan', 'Ciudad': 'Bogota', 'Edad': 20}\n"
          ]
        }
      ]
    },
    {
      "cell_type": "markdown",
      "source": [
        "Clase 2 -- 24 Octubre"
      ],
      "metadata": {
        "id": "JLqGwwxwjHXT"
      }
    },
    {
      "cell_type": "code",
      "source": [
        "#Operadores Aritmeticos\n",
        "\n",
        "print(1+4)\n",
        "print(3-45)\n",
        "print(6*9)\n",
        "print(10/3)\n",
        "\n"
      ],
      "metadata": {
        "colab": {
          "base_uri": "https://localhost:8080/"
        },
        "id": "gm1MU0bHjLBj",
        "outputId": "da8d17b2-5e19-4be6-e80a-77046de77dee"
      },
      "execution_count": null,
      "outputs": [
        {
          "output_type": "stream",
          "name": "stdout",
          "text": [
            "5\n",
            "-42\n",
            "54\n",
            "3.3333333333333335\n"
          ]
        }
      ]
    },
    {
      "cell_type": "code",
      "source": [
        "#Operadores Logicos\n",
        "##OR,AND,NOD\n",
        "\n",
        "#OR\n",
        "print(True or False)\n",
        "print(1 or 1)\n",
        "#Combinacion 1\n",
        "A= 1\n",
        "B= 0\n",
        "print(A or B)\n",
        "#Combinacion 2\n",
        "A= 0\n",
        "B= 1\n",
        "print(A or B)\n",
        "#Combinacion 3\n",
        "A= 0\n",
        "B= 0\n",
        "print(A or B)\n"
      ],
      "metadata": {
        "id": "ocWLMv5X94MB",
        "colab": {
          "base_uri": "https://localhost:8080/"
        },
        "outputId": "68039c60-3986-4553-f6ba-01a5951fe28d"
      },
      "execution_count": null,
      "outputs": [
        {
          "output_type": "stream",
          "name": "stdout",
          "text": [
            "True\n",
            "1\n",
            "1\n",
            "1\n",
            "0\n"
          ]
        }
      ]
    },
    {
      "cell_type": "code",
      "source": [
        "#AND\n",
        "#Combinancion 1\n",
        "A= True\n",
        "B= False\n",
        "print(A and B)\n",
        "#Combinacion 2\n",
        "A= True\n",
        "B= True\n",
        "print(A and B)\n",
        "#Combinacion 3\n",
        "A= False\n",
        "B= False\n",
        "print(A and B)\n",
        "#Combinacion 4\n",
        "A= True\n",
        "B= True\n",
        "C= True\n",
        "print(A and B and C)\n"
      ],
      "metadata": {
        "colab": {
          "base_uri": "https://localhost:8080/"
        },
        "id": "QTgN5tDBnfL0",
        "outputId": "e8ff337e-9583-47bc-8122-e686f20d300e"
      },
      "execution_count": null,
      "outputs": [
        {
          "output_type": "stream",
          "name": "stdout",
          "text": [
            "False\n",
            "True\n",
            "False\n",
            "True\n"
          ]
        }
      ]
    },
    {
      "cell_type": "code",
      "source": [
        "from ast import Not\n",
        "# NOT\n",
        "\n",
        "#Combiancion 1\n",
        "A= True\n",
        "B= False\n",
        "print(not A)\n",
        "print(not B)"
      ],
      "metadata": {
        "colab": {
          "base_uri": "https://localhost:8080/"
        },
        "id": "Yg6jsnaypIHv",
        "outputId": "bd41261b-604d-4f3c-8c2b-abb8e8c9d64b"
      },
      "execution_count": null,
      "outputs": [
        {
          "output_type": "stream",
          "name": "stdout",
          "text": [
            "False\n",
            "True\n"
          ]
        }
      ]
    },
    {
      "cell_type": "code",
      "source": [
        "##Operadores de Comparacion\n",
        "###\n",
        "#== si una variable es igual a otra\n",
        "A=4\n",
        "B=4\n",
        "print(A==B)\n",
        "##<= menor o igual\n",
        "A=4\n",
        "B=3.999\n",
        "print(A<=B)\n",
        "##>= mayor o igual\n",
        "A=4\n",
        "B=3.999\n",
        "print(A>=B)\n",
        "#!= distinto\n",
        "A=4\n",
        "B=4\n",
        "print(A!=B)"
      ],
      "metadata": {
        "colab": {
          "base_uri": "https://localhost:8080/"
        },
        "id": "9JDWE1kXpwBP",
        "outputId": "eae09f98-3f52-4fdb-ca65-ef316da4aea2"
      },
      "execution_count": null,
      "outputs": [
        {
          "output_type": "stream",
          "name": "stdout",
          "text": [
            "True\n",
            "False\n",
            "True\n",
            "False\n"
          ]
        }
      ]
    },
    {
      "cell_type": "code",
      "source": [
        "#Condicionales\n",
        "#IF ELSE\n",
        "Edad_A=int(input(\"Ingrese su edad:\"))# El dato Int convierte a tipo entero\n",
        "\n",
        "if Edad_A >=18 :\n",
        "  Nombre= \"Daniel\"\n",
        "  print(\"La persona es mayor de edad\", Nombre)\n",
        "else:\n",
        "  print(\"La persona es menor de edad\")\n",
        "  A= 4\n",
        "  B= 23\n",
        "  C= 24\n",
        "  print(A+B+C)\n",
        "print(\"Fin del Porgrama\")\n",
        "\n"
      ],
      "metadata": {
        "colab": {
          "base_uri": "https://localhost:8080/"
        },
        "id": "px98We23s6xw",
        "outputId": "17259f63-cc19-4df2-ee42-5f33d1487f1f"
      },
      "execution_count": null,
      "outputs": [
        {
          "output_type": "stream",
          "name": "stdout",
          "text": [
            "Ingrese su edad:14\n",
            "La persona es menor de edad\n",
            "51\n",
            "Fin del Porgrama\n"
          ]
        }
      ]
    },
    {
      "cell_type": "code",
      "source": [
        "##condicional if-elif-else\n",
        "Nombre=input(\"Ingrese su nombre:\")\n",
        "\n",
        "if Nombre == \"David\":\n",
        "  print(\"ingreso autorizado,\",Nombre, \"Bienvenido usted puede entrar\")\n",
        "elif Nombre == \"Daniela\":\n",
        "  print(\"ingreso autorizado\", \"Bienvenida:\", Nombre)\n",
        "else:\n",
        "  print(\"Ingreso denegado\")\n",
        "print(\"Fin del programa\")"
      ],
      "metadata": {
        "colab": {
          "base_uri": "https://localhost:8080/"
        },
        "id": "2CPJRNrVwVXV",
        "outputId": "c96cce59-82c6-475a-e44e-ceaecff93cf3"
      },
      "execution_count": null,
      "outputs": [
        {
          "output_type": "stream",
          "name": "stdout",
          "text": [
            "Ingrese su nombre:David\n",
            "ingreso autorizado, David Bienvenido usted puede entrar\n",
            "Fin del programa\n"
          ]
        }
      ]
    },
    {
      "cell_type": "code",
      "source": [
        "#Bucles en pyhton\n",
        "#FOR\n",
        "\n",
        "for Contador in range(2):\n",
        "  print(\"Viper\")\n",
        "  print(Contador)\n"
      ],
      "metadata": {
        "colab": {
          "base_uri": "https://localhost:8080/"
        },
        "id": "GDyMoH_FzoZK",
        "outputId": "8fab155e-9b60-4ec5-ba3f-82091b176996"
      },
      "execution_count": null,
      "outputs": [
        {
          "output_type": "stream",
          "name": "stdout",
          "text": [
            "Viper\n",
            "0\n",
            "Viper\n",
            "1\n"
          ]
        }
      ]
    },
    {
      "cell_type": "code",
      "source": [
        "# Ciclo For recorrido de datos\n",
        "#FOR\n",
        "Datos = [\"Perro\", \"Gato\", 3, 8, \"casas\"]\n",
        "for x in Datos:\n",
        "  if x== \"Perro\" or x== \"Gato\":\n",
        "    print(x, \"Es una mascota\")\n",
        "  else:\n",
        "    print(x, \"No es una mascota\")"
      ],
      "metadata": {
        "colab": {
          "base_uri": "https://localhost:8080/"
        },
        "id": "yh42Onn04ZKJ",
        "outputId": "d7024699-ea36-4dec-aee8-d38bd68fa9df"
      },
      "execution_count": null,
      "outputs": [
        {
          "output_type": "stream",
          "name": "stdout",
          "text": [
            "Perro Es una mascota\n",
            "Gato Es una mascota\n",
            "3 No es una mascota\n",
            "8 No es una mascota\n",
            "casas No es una mascota\n"
          ]
        }
      ]
    },
    {
      "cell_type": "code",
      "source": [
        "#WHILE\n",
        "\n",
        "contador = 5\n",
        "while contador >= 1:\n",
        "    print(\"La bomba va a explotar en:\", contador)\n",
        "    contador -= 1\n",
        "\n",
        "print(\"BOOMMM\")\n"
      ],
      "metadata": {
        "colab": {
          "base_uri": "https://localhost:8080/"
        },
        "id": "jFiy_Zg21tTz",
        "outputId": "39471b58-8377-4e74-c555-a1b33d8cc1c4"
      },
      "execution_count": null,
      "outputs": [
        {
          "output_type": "stream",
          "name": "stdout",
          "text": [
            "La bomba va a explotar en: 5\n",
            "La bomba va a explotar en: 4\n",
            "La bomba va a explotar en: 3\n",
            "La bomba va a explotar en: 2\n",
            "La bomba va a explotar en: 1\n",
            "BOOMMM\n"
          ]
        }
      ]
    },
    {
      "cell_type": "code",
      "source": [
        "##bucle infinito con break\n",
        "numero=0\n",
        "while True:\n",
        "\n",
        "  print(\"Hola\")\n",
        "  if numero == 5:\n",
        "    break\n",
        "  numero +=1 #incrementa la variable en 1\n",
        "print(\"Fin del programa\")"
      ],
      "metadata": {
        "colab": {
          "base_uri": "https://localhost:8080/"
        },
        "id": "Vu2juQY8KLQU",
        "outputId": "11daa357-8df7-4632-a45f-8016d7fc5460"
      },
      "execution_count": null,
      "outputs": [
        {
          "output_type": "stream",
          "name": "stdout",
          "text": [
            "Hola\n",
            "Hola\n",
            "Hola\n",
            "Hola\n",
            "Hola\n",
            "Hola\n",
            "Fin del programa\n"
          ]
        }
      ]
    },
    {
      "cell_type": "code",
      "source": [
        "diccionario={\"Elemento\":\"casa\",\n",
        "             \"ciudad\":\"cali\",\n",
        "             \"color\":\"cafe\",\n",
        "             \"pais\":\"colombia\",\n",
        "             \"numero\":2025}\n",
        "while True:\n",
        "  for clave, valor in diccionario.items():\n",
        "    print(clave, \"es igual a\", valor)\n",
        "    if valor == \"cafe\":\n",
        "      break\n",
        "    print(valor)\n",
        "  break"
      ],
      "metadata": {
        "colab": {
          "base_uri": "https://localhost:8080/"
        },
        "id": "akOVInFnKu0m",
        "outputId": "1420fd25-99df-4ffb-d175-4e4c32f1b917"
      },
      "execution_count": null,
      "outputs": [
        {
          "output_type": "stream",
          "name": "stdout",
          "text": [
            "Elemento es igual a casa\n",
            "casa\n",
            "ciudad es igual a cali\n",
            "cali\n",
            "color es igual a cafe\n"
          ]
        }
      ]
    },
    {
      "cell_type": "code",
      "source": [
        "Carros=['Lambo','Porsche','Mclaren','Ferrari']\n",
        "while True:\n",
        "  for x in Carros:\n",
        "    print(x)\n",
        "    if x == 'Mclaren':\n",
        "     break\n",
        "  break"
      ],
      "metadata": {
        "colab": {
          "base_uri": "https://localhost:8080/"
        },
        "id": "BSiX2FhNLoNp",
        "outputId": "9150a71c-d0d0-41ba-d5fa-fac0ff39e631"
      },
      "execution_count": null,
      "outputs": [
        {
          "output_type": "stream",
          "name": "stdout",
          "text": [
            "Lambo\n",
            "Porsche\n",
            "Mclaren\n"
          ]
        }
      ]
    },
    {
      "cell_type": "code",
      "source": [
        "#Break\n",
        "\n",
        "for num in range(1, 10):\n",
        "    if num == 6:\n",
        "\n",
        "        break\n",
        "    print(num)"
      ],
      "metadata": {
        "colab": {
          "base_uri": "https://localhost:8080/"
        },
        "id": "LeIqLdcH3MFc",
        "outputId": "6d9900f6-868b-4736-a893-d396f71b17f8"
      },
      "execution_count": null,
      "outputs": [
        {
          "output_type": "stream",
          "name": "stdout",
          "text": [
            "1\n",
            "2\n",
            "3\n",
            "4\n",
            "5\n"
          ]
        }
      ]
    },
    {
      "cell_type": "code",
      "source": [
        "#Continue\n",
        "for num in range(1, 6):\n",
        "    if num == 3:\n",
        "        continue\n",
        "    print(num)"
      ],
      "metadata": {
        "colab": {
          "base_uri": "https://localhost:8080/"
        },
        "id": "zrgY5Im4_phe",
        "outputId": "989772da-b49d-46b6-9787-bfc7fd6eab6e"
      },
      "execution_count": null,
      "outputs": [
        {
          "output_type": "stream",
          "name": "stdout",
          "text": [
            "1\n",
            "2\n",
            "4\n",
            "5\n"
          ]
        }
      ]
    },
    {
      "cell_type": "code",
      "source": [
        "#Recorrer  una cadena carecteres\n",
        "\n",
        "Universidad= \"Universidad de la Salle\"\n",
        "for x in Universidad:\n",
        "  print(x)"
      ],
      "metadata": {
        "colab": {
          "base_uri": "https://localhost:8080/"
        },
        "id": "reIPShD7_68-",
        "outputId": "25eb336f-a5d6-4e93-a0b0-1fb55072f25d"
      },
      "execution_count": null,
      "outputs": [
        {
          "output_type": "stream",
          "name": "stdout",
          "text": [
            "U\n",
            "n\n",
            "i\n",
            "v\n",
            "e\n",
            "r\n",
            "s\n",
            "i\n",
            "d\n",
            "a\n",
            "d\n",
            " \n",
            "d\n",
            "e\n",
            " \n",
            "l\n",
            "a\n",
            " \n",
            "S\n",
            "a\n",
            "l\n",
            "l\n",
            "e\n"
          ]
        }
      ]
    },
    {
      "cell_type": "code",
      "source": [
        "#Ciclo para correr diccionarios\n",
        "Informacion={\"Nombre\": \"Juan\", \"Apellido\": \"Escobar\", \"Edad\": 20,\"Genero\": \"Masculino\"}\n",
        "for clave,valor in Informacion.items():\n",
        "  print(clave, \"es igual a\", valor)"
      ],
      "metadata": {
        "colab": {
          "base_uri": "https://localhost:8080/"
        },
        "id": "nPfxo2B1BH_E",
        "outputId": "9542f053-de28-4ec0-9ea4-c66fec1ed67e"
      },
      "execution_count": null,
      "outputs": [
        {
          "output_type": "stream",
          "name": "stdout",
          "text": [
            "Nombre es igual a Juan\n",
            "Apellido es igual a Escobar\n",
            "Edad es igual a 20\n",
            "Genero es igual a Masculino\n"
          ]
        }
      ]
    },
    {
      "cell_type": "markdown",
      "source": [
        "Clase 25 de octubre\n",
        "Ejercicio\n",
        "\n",
        "Algoritmos\n",
        "\n",
        " Escibra un porgrama que pida al usuario el capital inicial invertido, la tasa de interes anual(en %), y los años de inversion. Usa un bucle for para calcular y mostrar el valor del capital acumulado año por año (interes compuesto)"
      ],
      "metadata": {
        "id": "FnM_P-w4j9m7"
      }
    },
    {
      "cell_type": "code",
      "source": [
        "## Simulador de inversion v1\n",
        "# Solicitar datos al usuario\n",
        "capital_inicial = float(input(\"Ingrese el capital inicial: \"))\n",
        "tasa_interes = float(input(\"Ingrese la tasa de interés anual (%): \"))\n",
        "anios = int(input(\"Ingrese los años de inversión: \"))\n",
        "# Calcular año por año\n",
        "capital = capital_inicial\n",
        "for i in range(1, anios + 1):\n",
        "  capital *= (1 + tasa_interes / 100)\n",
        "  print(f\"Año {i}: ${capital:.2f}\")"
      ],
      "metadata": {
        "colab": {
          "base_uri": "https://localhost:8080/"
        },
        "id": "khQyM-OzrNh2",
        "outputId": "bb750d34-a082-465e-83fb-17d6af41a624"
      },
      "execution_count": null,
      "outputs": [
        {
          "output_type": "stream",
          "name": "stdout",
          "text": [
            "Ingrese el capital inicial: 90.000\n",
            "Ingrese la tasa de interés anual (%): 1.2\n",
            "Ingrese los años de inversión: 5\n",
            "Año 1: $91.08\n",
            "Año 2: $92.17\n",
            "Año 3: $93.28\n",
            "Año 4: $94.40\n",
            "Año 5: $95.53\n"
          ]
        }
      ]
    },
    {
      "cell_type": "code",
      "source": [
        "##Simulador de inversion v2\n",
        "print(\"Bienvenido a la calculadora de capital acumulado\")\n",
        "Capital = int(input(\"ingrese su capital inicial invertido:\"))\n",
        "Tasa = float(input(\"ingrese la tasa de interes anual en %:\"))/100 ##convertimos a %\n",
        "Años = int( input(\"ingrese los años de inversion:\"))\n",
        "\n",
        "for x in range(Años):\n",
        "  Capital_F=Capital*(1+Tasa)\n",
        "  print(\"El capital obtenido en el año\",x+1, 'es:', f'{Capital_F:.2f}')## 2f solo publica 2 decimales\n",
        "  Capital=Capital_F\n",
        "print(\"El capital final acumulado es:\", Capital)"
      ],
      "metadata": {
        "colab": {
          "base_uri": "https://localhost:8080/"
        },
        "id": "K0oy0tzgxpHO",
        "outputId": "e5e91fcb-af5b-403e-cfd3-130676b2a8d0"
      },
      "execution_count": null,
      "outputs": [
        {
          "output_type": "stream",
          "name": "stdout",
          "text": [
            "Bienvenido a la calculadora de capital acumulado\n",
            "ingrese su capital inicial invertido:90000\n",
            "ingrese la tasa de interes anual en %:1.2\n",
            "ingrese los años de inversion:5\n",
            "El capital obtenido en el año 1 es: 91080.00\n",
            "El capital obtenido en el año 2 es: 92172.96\n",
            "El capital obtenido en el año 3 es: 93279.04\n",
            "El capital obtenido en el año 4 es: 94398.38\n",
            "El capital obtenido en el año 5 es: 95531.16\n",
            "El capital final acumulado es: 95531.16455359489\n"
          ]
        }
      ]
    },
    {
      "cell_type": "markdown",
      "source": [
        "Ejercicio 2\n",
        "\n",
        "Solicita el usuario su puntaje crediticio (entre 300 y 850 ). Usa una estrucutura if - elif - else para clasificarse\n",
        "\n",
        "\n",
        "*   \"Riesgo alto\" si es menor de 850\n",
        "*   \"Riesgo medio\" si esta entre 580 y 699\n",
        "*   \"Riesgo Bajo\"  si es 700 o mas\n",
        "\n",
        "\n",
        "\n",
        "\n",
        "\n",
        "\n"
      ],
      "metadata": {
        "id": "7sxF4liSyHA_"
      }
    },
    {
      "cell_type": "code",
      "source": [
        "# Solicitar puntaje al usuario\n",
        "print(\"Bienvenido a Rappi card black\")\n",
        "puntaje = int(input(\"Ingresa tu puntaje crediticio (entre 300 y 850): \"))\n",
        "\n",
        "# Clasificación según el puntaje\n",
        "if puntaje >=300 and puntaje< 580:\n",
        "    print(\"Riesgo alto\")\n",
        "elif puntaje >= 580 and puntaje <= 699:\n",
        "    print(\"Riesgo medio\")\n",
        "elif puntaje <300 or puntaje>850:\n",
        "  print(\"Ingrese un puntaje valido,Vuelva en dos meses para intertar de nuevo :(\")\n",
        "else:\n",
        "    print(\"Riesgo bajo\")"
      ],
      "metadata": {
        "colab": {
          "base_uri": "https://localhost:8080/"
        },
        "id": "Q5-DY_K9y4R4",
        "outputId": "0ae45ea3-ac2d-4dd9-ac14-5aacfb84d655"
      },
      "execution_count": null,
      "outputs": [
        {
          "output_type": "stream",
          "name": "stdout",
          "text": [
            "Bienvenido a Rappi card black\n",
            "Ingresa tu puntaje crediticio (entre 300 y 850): 20\n",
            "Ingrese un puntaje valido,Vuelva en dos meses para intertar de nuevo :(\n"
          ]
        }
      ]
    },
    {
      "cell_type": "markdown",
      "source": [
        "Ejercicio 3\n",
        "Solicita al usuario ingresar los valores del PIB de un pais durante los ultimos 5 años.Usa un bucle for para calcular y mostrar el porcentaje de crecimiento o decrecimiento entre años consecutivos"
      ],
      "metadata": {
        "id": "ADhhlglG4rso"
      }
    },
    {
      "cell_type": "code",
      "source": [
        "# Solicitar los valores del PIB de los últimos 5 años\n",
        "pib = []  # lista para guardar los valores\n",
        "\n",
        "for i in range(1,6):\n",
        "    valor = float(input(f\"Ingrese el PIB del año {i}: \"))\n",
        "    pib.append(valor)## acumula uno tras otro para formar vector\n",
        "\n",
        "print(\"Porcentaje de crecimiento o decrecimiento\")\n",
        "\n",
        "# Calcular el crecimiento o decrecimiento entre años consecutivos\n",
        "for i in range(1, 5):\n",
        "    crecimiento = ((pib[i] - pib[i - 1]) / pib[i - 1]) * 100\n",
        "    if crecimiento > 0:\n",
        "        print(f\"Crecimiento del año {i} al año {i + 1}: {crecimiento:.2f}%\")\n",
        "    elif crecimiento < 0:\n",
        "        print(f\"Decrecimiento del año {i} al año {i + 1}: {crecimiento:.2f}%\")\n",
        "    else:\n",
        "        print(f\"Sin Cambio del año {i} al año {i + 1}: {crecimiento:.2f}%\")\n"
      ],
      "metadata": {
        "colab": {
          "base_uri": "https://localhost:8080/"
        },
        "id": "hCmsF49Z4rO5",
        "outputId": "cdf75b4d-bae8-41c9-8892-86c7b6bf6d02"
      },
      "execution_count": null,
      "outputs": [
        {
          "output_type": "stream",
          "name": "stdout",
          "text": [
            "Ingrese el PIB del año 1: 100\n",
            "Ingrese el PIB del año 2: 125\n",
            "Ingrese el PIB del año 3: 125\n",
            "Ingrese el PIB del año 4: 150\n",
            "Ingrese el PIB del año 5: 130\n",
            "Porcentaje de crecimiento o decrecimiento\n",
            "Crecimiento del año 1 al año 2: 25.00%\n",
            "Sin Cambio del año 2 al año 3: 0.00%\n",
            "Crecimiento del año 3 al año 4: 20.00%\n",
            "Decrecimiento del año 4 al año 5: -13.33%\n"
          ]
        }
      ]
    },
    {
      "cell_type": "code",
      "source": [
        "#Version 2 del ejercicio\n",
        "pib = []  # lista para guardar los valores\n",
        "\n",
        "for i in range(1,6):\n",
        "    valor = float(input(f\"Ingrese el PIB del año {i}: \"))\n",
        "    pib.append(valor)## acumula uno tras otro para formar vector\n",
        "for n in range(4):\n",
        "\n",
        "  cambio = ((pib[n+1] - pib[n])* 100 / pib[n])\n",
        "\n",
        "  print(cambio:.2f)"
      ],
      "metadata": {
        "colab": {
          "base_uri": "https://localhost:8080/"
        },
        "id": "H2PlCgMyNGTQ",
        "outputId": "b50646de-6533-414d-df29-f5a56c75a090"
      },
      "execution_count": null,
      "outputs": [
        {
          "output_type": "stream",
          "name": "stdout",
          "text": [
            "Ingrese el PIB del año 1: 100\n",
            "Ingrese el PIB del año 2: 125\n",
            "Ingrese el PIB del año 3: 125\n",
            "Ingrese el PIB del año 4: 150\n",
            "Ingrese el PIB del año 5: 130\n",
            "25.0\n",
            "0.0\n",
            "20.0\n",
            "-13.333333333333334\n"
          ]
        }
      ]
    },
    {
      "cell_type": "markdown",
      "source": [
        "Ejercicio 4\n",
        "\n",
        "Un usuario solicita un prestamo de cierta cantidad con una tasa fija fija de interes y numero de cuotas de mensuales. El programa debe calcular, usando un bucle while,como se ve reduciendo el saldo mes a mes y mostrar la tabla de pagos (cuota,interes,saldo restante)"
      ],
      "metadata": {
        "id": "PwfmczC-Kdlv"
      }
    },
    {
      "cell_type": "code",
      "source": [
        "# Solicitar datos al usuario v1 ANUAL\n",
        "prestamo = float(input(\"Ingrese el monto del préstamo: \"))\n",
        "tasa_interes = float(input(\"Ingrese la tasa de interés anual (%): \"))\n",
        "cuotas = int(input(\"Ingrese el número de cuotas mensuales: \"))\n",
        "\n",
        "# Calcular tasa de interés mensual\n",
        "tasa_mensual =(1+tasa_interes)**(1/12)-1\n",
        "cuota = prestamo * (tasa_mensual * (1 + tasa_mensual) ** cuotas) / ((1 + tasa_mensual) ** cuotas - 1)\n",
        "saldo = prestamo\n",
        "mes = 1\n",
        "\n",
        "print(\"\\nTabla de pagos:\")\n",
        "print(\"Mes\\t|Cuota\\t|\\tInterés\\t|\\tAbono\\t|\\tSaldo restante\")\n",
        "\n",
        "# Bucle while para mostrar mes a mes\n",
        "while mes <= cuotas:\n",
        "    interes = saldo * tasa_mensual\n",
        "    abono_capital = cuota - interes\n",
        "    saldo -= abono_capital\n",
        "\n",
        "    print(f\"{mes}\\t|${cuota:,.2f}\\t|${interes:,.2f}\\t|${abono_capital:,.2f}\\t|${saldo:,.2f}\")\n",
        "\n",
        "    mes += 1\n",
        "\n"
      ],
      "metadata": {
        "colab": {
          "base_uri": "https://localhost:8080/"
        },
        "id": "Xw7-X-64Ie04",
        "outputId": "71695eb1-39de-45c5-f965-6cf5a18ed755"
      },
      "execution_count": null,
      "outputs": [
        {
          "output_type": "stream",
          "name": "stdout",
          "text": [
            "Ingrese el monto del préstamo: 1000000\n",
            "Ingrese la tasa de interés anual (%): 13\n",
            "Ingrese el número de cuotas mensuales: 6\n",
            "\n",
            "Tabla de pagos:\n",
            "Mes\t|Cuota\t|\tInterés\t|\tAbono\t|\tSaldo restante\n",
            "1\t|$335,697.88\t|$245,978.85\t|$89,719.03\t|$910,280.97\n",
            "2\t|$335,697.88\t|$223,909.86\t|$111,788.02\t|$798,492.95\n",
            "3\t|$335,697.88\t|$196,412.38\t|$139,285.50\t|$659,207.45\n",
            "4\t|$335,697.88\t|$162,151.09\t|$173,546.79\t|$485,660.66\n",
            "5\t|$335,697.88\t|$119,462.25\t|$216,235.63\t|$269,425.02\n",
            "6\t|$335,697.88\t|$66,272.86\t|$269,425.02\t|$-0.00\n"
          ]
        }
      ]
    },
    {
      "cell_type": "code",
      "source": [
        "#Simulador de prestamo v2 Mensual\n",
        "print(\"Simulador de Préstamo - Tabla de Amortización\")\n",
        "\n",
        "v_prestamo = float(input(\"Ingrese el valor de su préstamo: \"))\n",
        "tasa = float(input(\"Ingrese la tasa de interés mensual (%): \")) / 100\n",
        "cuotas = int(input(\"Ingrese el número de cuotas mensuales: \"))\n",
        "\n",
        "# Fórmula de la cuota fija\n",
        "Cuota_Fija = v_prestamo * (tasa * (1 + tasa) ** cuotas) / ((1 + tasa) ** cuotas - 1)\n",
        "\n",
        "print(f\"\\nLa Cuota mensual para este préstamo es: {Cuota_Fija:.2f}\\n\")\n",
        "\n",
        "saldo = v_prestamo\n",
        "n_cuota = 1\n",
        "\n",
        "print(\"Cuota | Interés | Amortización | Saldo restante\")\n",
        "print(\"-----------------------------------------------\")\n",
        "\n",
        "while saldo > 0 and n_cuota <= cuotas:\n",
        "    interes = saldo * tasa\n",
        "    amortizacion = Cuota_Fija - interes\n",
        "    saldo -= amortizacion\n",
        "    if saldo < 0: saldo = 0\n",
        "    print(f\"{n_cuota:5} | {interes:8.2f} | {amortizacion:13.2f} | {saldo:15.2f}\")\n",
        "    n_cuota += 1"
      ],
      "metadata": {
        "colab": {
          "base_uri": "https://localhost:8080/"
        },
        "id": "ctQSLoWI6P1j",
        "outputId": "8cf8a1e4-559e-44dd-8fd9-d302188fd486"
      },
      "execution_count": null,
      "outputs": [
        {
          "output_type": "stream",
          "name": "stdout",
          "text": [
            "Simulador de Préstamo - Tabla de Amortización\n",
            "Ingrese el valor de su préstamo: 1000000\n",
            "Ingrese la tasa de interés mensual (%): 1.5\n",
            "Ingrese el número de cuotas mensuales: 12\n",
            "\n",
            "La Cuota mensual para este préstamo es: 91679.99\n",
            "\n",
            "Cuota | Interés | Amortización | Saldo restante\n",
            "-----------------------------------------------\n",
            "    1 | 15000.00 |      76679.99 |       923320.01\n",
            "    2 | 13849.80 |      77830.19 |       845489.81\n",
            "    3 | 12682.35 |      78997.65 |       766492.17\n",
            "    4 | 11497.38 |      80182.61 |       686309.56\n",
            "    5 | 10294.64 |      81385.35 |       604924.21\n",
            "    6 |  9073.86 |      82606.13 |       522318.08\n",
            "    7 |  7834.77 |      83845.22 |       438472.86\n",
            "    8 |  6577.09 |      85102.90 |       353369.96\n",
            "    9 |  5300.55 |      86379.44 |       266990.51\n",
            "   10 |  4004.86 |      87675.14 |       179315.38\n",
            "   11 |  2689.73 |      88990.26 |        90325.12\n",
            "   12 |  1354.88 |      90325.12 |            0.00\n"
          ]
        }
      ]
    },
    {
      "cell_type": "markdown",
      "source": [
        "Funciones de Python"
      ],
      "metadata": {
        "id": "ioSzSnDnCkxc"
      }
    },
    {
      "cell_type": "code",
      "source": [
        "##una funcion se define con las letras \"def\"\n",
        "def calculadora_de_inversion(Capital,Tasa,Años):\n",
        "  Tasa=Tasa/100 ##convertimos a %\n",
        "  for x in range(Años):\n",
        "    Capital_F=Capital*(1+Tasa)\n",
        "    print(\"El capital obtenido en el año\",x+1, 'es:', f'{Capital_F:.2f}')## 2f solo publica 2 decimales\n",
        "    Capital=Capital_F\n",
        "  return Capital_F\n",
        "  print(\"El capital final acumulado es:\", Capital)"
      ],
      "metadata": {
        "id": "92hF-dpD65pu"
      },
      "execution_count": null,
      "outputs": []
    },
    {
      "cell_type": "code",
      "source": [
        "calculadora_de_inversion(25000,1.5,5)"
      ],
      "metadata": {
        "id": "spQ0p8LrLduu"
      },
      "execution_count": null,
      "outputs": []
    },
    {
      "cell_type": "code",
      "source": [
        "A = int(input(\"ingrese su capital inicial invertido:\"))\n",
        "B = float(input(\"ingrese la tasa de interes anual en %:\"))\n",
        "C = int( input(\"ingrese los años de inversion:\"))\n",
        "ganancias=calculadora_de_inversion(A,B,C)\n",
        "print(\"El capital final acumulado es:\", f'{ ganancias:.1f}')"
      ],
      "metadata": {
        "id": "U4AtQJ5dLnps"
      },
      "execution_count": null,
      "outputs": []
    }
  ]
}