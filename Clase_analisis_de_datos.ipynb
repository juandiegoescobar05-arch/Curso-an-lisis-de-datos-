{
  "cells": [
    {
      "cell_type": "markdown",
      "metadata": {
        "id": "view-in-github",
        "colab_type": "text"
      },
      "source": [
        "<a href=\"https://colab.research.google.com/github/juandiegoescobar05-arch/Curso-an-lisis-de-datos-/blob/main/Clase_analisis_de_datos.ipynb\" target=\"_parent\"><img src=\"https://colab.research.google.com/assets/colab-badge.svg\" alt=\"Open In Colab\"/></a>"
      ]
    },
    {
      "cell_type": "markdown",
      "metadata": {
        "id": "cUcGPt6Wq8pg"
      },
      "source": [
        "Inicio en el Lenguaje de Python"
      ]
    },
    {
      "cell_type": "code",
      "execution_count": null,
      "metadata": {
        "colab": {
          "base_uri": "https://localhost:8080/"
        },
        "id": "3IaBckbhOl6E",
        "outputId": "7fced297-04c6-4acc-b5db-beb71fa12406"
      },
      "outputs": [
        {
          "name": "stdout",
          "output_type": "stream",
          "text": [
            "Mi Nombre es Juan Escobar y mi edad es de 20 años\n"
          ]
        }
      ],
      "source": [
        "Nombre = \"Juan\" # Defino tipo de variable de texto tipo strint (str)\n",
        "Apellido = \"Escobar\"\n",
        "Edad = 20 #Defino tipo de variable numero enteros tipo (int)\n",
        "pi = 3.1416 #Defino tipo de variable numeros con deciames tipo(float)\n",
        "\n",
        "print(\"Mi Nombre es\",Nombre,Apellido,\"y mi edad es de\",Edad,\"años\")"
      ]
    },
    {
      "cell_type": "code",
      "execution_count": null,
      "metadata": {
        "colab": {
          "base_uri": "https://localhost:8080/"
        },
        "id": "V9eJ8vaWVwOO",
        "outputId": "43b1095f-cbae-4761-be31-87534499c200"
      },
      "outputs": [
        {
          "name": "stdout",
          "output_type": "stream",
          "text": [
            "Python version 3 tiene una popularidad de 9.9\n",
            "pero sigue sin tener pareja... porque todas las variables mienten \n"
          ]
        }
      ],
      "source": [
        "nombre = \"Python\"\n",
        "version = 3\n",
        "popularidad = 9.9\n",
        "\n",
        "print(nombre,\"version\",version,\"tiene una popularidad de\",popularidad)\n",
        "print(\"pero sigue sin tener pareja... porque todas las variables mienten \")"
      ]
    },
    {
      "cell_type": "markdown",
      "metadata": {
        "id": "wNaPalfVq3Kj"
      },
      "source": [
        "Operaciones Basicas Matematicas"
      ]
    },
    {
      "cell_type": "code",
      "execution_count": null,
      "metadata": {
        "colab": {
          "base_uri": "https://localhost:8080/"
        },
        "id": "m3hr4Hh1QfPb",
        "outputId": "7084b522-1972-4b8c-e3fc-ef6ab89ba456"
      },
      "outputs": [
        {
          "name": "stdout",
          "output_type": "stream",
          "text": [
            "21\n",
            "108\n",
            "1.3333333333333333\n",
            "1\n",
            "5159780352\n"
          ]
        }
      ],
      "source": [
        "#Sumatoria de datos\n",
        "\n",
        "A= 12\n",
        "B= 9\n",
        "C= A+B\n",
        "print(C)\n",
        "\n",
        "A= 12\n",
        "B= 9\n",
        "C= A*B\n",
        "print(C)\n",
        "\n",
        "A= 12\n",
        "B= 9\n",
        "C= 12/9\n",
        "print(C) #Solo un slash da decimales(float)\n",
        "\n",
        "A= 12\n",
        "B= 9\n",
        "C= 12//9\n",
        "print(C) #Dos slash da numero entero\n",
        "\n",
        "print(12**9) #Potencia del numero"
      ]
    },
    {
      "cell_type": "markdown",
      "metadata": {
        "id": "2gDpn52luO5J"
      },
      "source": [
        "Listas, Tuples, Diccionarios"
      ]
    },
    {
      "cell_type": "code",
      "execution_count": null,
      "metadata": {
        "colab": {
          "base_uri": "https://localhost:8080/"
        },
        "id": "WOif61fxuWLn",
        "outputId": "beb473c5-cd53-4dca-af4c-a4555110f019"
      },
      "outputs": [
        {
          "name": "stdout",
          "output_type": "stream",
          "text": [
            "['medias', 'pantalones', 6, 3.141592, 'Articulos de aseo']\n",
            "3.141592\n",
            "Articulos de aseo\n"
          ]
        }
      ],
      "source": [
        "#Variables de tipos de datos LISTAS\n",
        "Datos=['medias','pantalones',6 , 3.141592, 'Articulos de aseo']\n",
        "print(Datos)\n",
        "\n",
        "print(Datos[3])  # Publica la unfomración almacenada en la lista Datos en la ubicación 3\n",
        "print(Datos[-1]) #Publique el ultimo de la lista"
      ]
    },
    {
      "cell_type": "code",
      "execution_count": null,
      "metadata": {
        "colab": {
          "base_uri": "https://localhost:8080/"
        },
        "id": "BCuGpjWIrvA4",
        "outputId": "6aad5dc3-a66a-4923-c095-7de6255f3339"
      },
      "outputs": [
        {
          "name": "stdout",
          "output_type": "stream",
          "text": [
            "['Juan', 'pantalones', 6, 3.141592, 'Escobar']\n"
          ]
        }
      ],
      "source": [
        "Datos[0]= Nombre\n",
        "Datos[-1]= Apellido #Permite editar la lista con datos de code anteriores\n",
        "print(Datos)"
      ]
    },
    {
      "cell_type": "code",
      "execution_count": null,
      "metadata": {
        "colab": {
          "base_uri": "https://localhost:8080/"
        },
        "id": "aht70asv1TJq",
        "outputId": "2c422a9f-22f5-444a-d4f9-c0bb95b2d6bd"
      },
      "outputs": [
        {
          "name": "stdout",
          "output_type": "stream",
          "text": [
            "['Juan', 'pantalones', 6, 3.141592, 'Escobar', 20]\n",
            "['Juan', 'pantalones', 6, 3.141592, 'Viper', 'Escobar', 20]\n",
            "['Juan', 'pantalones', 6, 3.141592, 'Escobar', 20]\n",
            "[]\n"
          ]
        }
      ],
      "source": [
        "#Propiedades de la lista\n",
        "Datos.append(Edad) #Permite agregar datos a la lista\n",
        "print(Datos)\n",
        "\n",
        "Datos.insert(4,\"Viper\") #Permite adicionar info a la lista\n",
        "print(Datos)\n",
        "Datos.remove(\"Viper\") #Remueve y elimina el dato indicado\n",
        "print(Datos)\n",
        "\n",
        "Datos.clear() #Elimina todos los datos de la lista\n",
        "print(Datos)"
      ]
    },
    {
      "cell_type": "code",
      "execution_count": null,
      "metadata": {
        "colab": {
          "base_uri": "https://localhost:8080/"
        },
        "id": "4bc6c3Vk4REq",
        "outputId": "3e3a48ba-00d7-4761-bf58-c4acc8406b5a"
      },
      "outputs": [
        {
          "name": "stdout",
          "output_type": "stream",
          "text": [
            "('Nombre', 'Apellido', 'Sexo', 'Fecha de Nacimiento', 'G239P')\n",
            "2\n",
            "0\n",
            "{'Elemento': 'Casa', 'Ciudad': 'Cali', 'Color': 'Cafe', 'Pais': 'Colombia'}\n",
            "Colombia\n",
            "dict_keys(['Elemento', 'Ciudad', 'Color', 'Pais'])\n",
            "dict_values(['Casa', 'Cali', 'Cafe', 'Colombia'])\n"
          ]
        }
      ],
      "source": [
        "#Variables de tipos de datos Tuples\n",
        "Titulos= ('Nombre','Apellido','Sexo','Fecha de Nacimiento','G239P')\n",
        "print(Titulos)\n",
        "#Propiedades de Tuples\n",
        "Titulos.index('Sexo') #Retorna o indica la poscion del dato que se busca\n",
        "print(Titulos.index('Sexo'))\n",
        "print(Titulos.count('Movil')) #Indica cuantas veces aparece ese dato en espescifico\n",
        "\n",
        "#Propiedad tipo Diccionario\n",
        "Diccionario={'Elemento':'Casa'\n",
        "             ,'Ciudad':'Cali'\n",
        "               ,'Color':\"Cafe\"\n",
        "                 ,'Pais':'Colombia'}\n",
        "print(Diccionario)\n",
        "print(Diccionario.get('Pais')) #Me da el valor de la etiqueta que se pide\n",
        "print(Diccionario.keys()) #Nos da los titulos\n",
        "print(Diccionario.values()) #Nos da el contenido de los titulos-Etiquetas\n",
        "\n",
        "Diccionario.update({'Año':2025})"
      ]
    },
    {
      "cell_type": "code",
      "execution_count": null,
      "metadata": {
        "colab": {
          "base_uri": "https://localhost:8080/"
        },
        "id": "xMWzhnMGKmIa",
        "outputId": "dd6317bb-fa07-4407-e37f-40e5a9e398ea"
      },
      "outputs": [
        {
          "name": "stdout",
          "output_type": "stream",
          "text": [
            "Ingrese su Nombre:Juan\n",
            "Su nombre es Juan\n"
          ]
        }
      ],
      "source": [
        "# Funciones de ingreso de informacion\n",
        "Nombre= input('Ingrese su Nombre:')\n",
        "\n",
        "#Funcion de Salida\n",
        "print('Su nombre es',Nombre)"
      ]
    },
    {
      "cell_type": "markdown",
      "metadata": {
        "id": "471qbfU7KJPT"
      },
      "source": [
        "Ejercicio\n",
        "\n",
        "Realizar un programa que lea los elementos de una lista (Nombre,edad,ciuadad de una persona)y los almacene en un diccionario"
      ]
    },
    {
      "cell_type": "code",
      "execution_count": null,
      "metadata": {
        "colab": {
          "base_uri": "https://localhost:8080/"
        },
        "id": "VQTM25M6KUV-",
        "outputId": "af4076b1-d8e1-45bf-e941-60ae1948b579"
      },
      "outputs": [
        {
          "name": "stdout",
          "output_type": "stream",
          "text": [
            "Ingrese Su NombreJuan\n",
            "¿De donde es? Bogota\n",
            "Por ultimo cual es su edad?20\n",
            "Su nombre es Juan\n",
            "El es de Bogota\n",
            "Su edad es 20\n",
            "{'Nombre': 'Juan', 'Ciudad': 'Bogota', 'Edad': 20}\n"
          ]
        }
      ],
      "source": [
        "Nombre= input('Ingrese Su Nombre')\n",
        "Ciudad= input('¿De donde es? ')\n",
        "Edad= input('Por ultimo cual es su edad?')\n",
        "\n",
        "print('Su nombre es', Nombre)\n",
        "print('El es de', Ciudad)\n",
        "print('Su edad es',Edad)\n",
        "\n",
        "Diccionario=({'Nombre':'Juan','Ciudad':'Bogota','Edad':20})\n",
        "print(Diccionario)\n",
        "\n"
      ]
    },
    {
      "cell_type": "markdown",
      "metadata": {
        "id": "JLqGwwxwjHXT"
      },
      "source": [
        "Clase 2 -- 24 Octubre"
      ]
    },
    {
      "cell_type": "code",
      "execution_count": null,
      "metadata": {
        "colab": {
          "base_uri": "https://localhost:8080/"
        },
        "id": "gm1MU0bHjLBj",
        "outputId": "cb984a3b-4983-4a39-cadc-e8f5c06b1966"
      },
      "outputs": [
        {
          "name": "stdout",
          "output_type": "stream",
          "text": [
            "5\n",
            "-42\n",
            "54\n",
            "3.3333333333333335\n"
          ]
        }
      ],
      "source": [
        "#Operadores Aritmeticos\n",
        "\n",
        "print(1+4)\n",
        "print(3-45)\n",
        "print(6*9)\n",
        "print(10/3)\n",
        "\n"
      ]
    },
    {
      "cell_type": "code",
      "execution_count": null,
      "metadata": {
        "colab": {
          "base_uri": "https://localhost:8080/"
        },
        "id": "ocWLMv5X94MB",
        "outputId": "d3b99402-eaed-4fb0-c66e-832df969a9b6"
      },
      "outputs": [
        {
          "name": "stdout",
          "output_type": "stream",
          "text": [
            "True\n",
            "1\n",
            "1\n",
            "1\n",
            "0\n"
          ]
        }
      ],
      "source": [
        "#Operadores Logicos\n",
        "##OR,AND,NOD\n",
        "\n",
        "#OR\n",
        "print(True or False)\n",
        "print(1 or 1)\n",
        "#Combinacion 1\n",
        "A= 1\n",
        "B= 0\n",
        "print(A or B)\n",
        "#Combinacion 2\n",
        "A= 0\n",
        "B= 1\n",
        "print(A or B)\n",
        "#Combinacion 3\n",
        "A= 0\n",
        "B= 0\n",
        "print(A or B)\n"
      ]
    },
    {
      "cell_type": "code",
      "execution_count": null,
      "metadata": {
        "colab": {
          "base_uri": "https://localhost:8080/"
        },
        "id": "QTgN5tDBnfL0",
        "outputId": "5df20930-6715-4b03-a1f6-bfb0209bcc54"
      },
      "outputs": [
        {
          "name": "stdout",
          "output_type": "stream",
          "text": [
            "False\n",
            "True\n",
            "False\n",
            "True\n"
          ]
        }
      ],
      "source": [
        "#AND\n",
        "#Combinancion 1\n",
        "A= True\n",
        "B= False\n",
        "print(A and B)\n",
        "#Combinacion 2\n",
        "A= True\n",
        "B= True\n",
        "print(A and B)\n",
        "#Combinacion 3\n",
        "A= False\n",
        "B= False\n",
        "print(A and B)\n",
        "#Combinacion 4\n",
        "A= True\n",
        "B= True\n",
        "C= True\n",
        "print(A and B and C)\n"
      ]
    },
    {
      "cell_type": "code",
      "execution_count": null,
      "metadata": {
        "colab": {
          "base_uri": "https://localhost:8080/"
        },
        "id": "Yg6jsnaypIHv",
        "outputId": "e139c602-c1eb-4314-c1bb-cab5988fa8a4"
      },
      "outputs": [
        {
          "name": "stdout",
          "output_type": "stream",
          "text": [
            "False\n",
            "True\n"
          ]
        }
      ],
      "source": [
        "from ast import Not\n",
        "# NOT\n",
        "\n",
        "#Combiancion 1\n",
        "A= True\n",
        "B= False\n",
        "print(not A)\n",
        "print(not B)"
      ]
    },
    {
      "cell_type": "code",
      "execution_count": null,
      "metadata": {
        "colab": {
          "base_uri": "https://localhost:8080/"
        },
        "id": "9JDWE1kXpwBP",
        "outputId": "39cbb4a7-98a3-4f52-ba9e-afde198c0616"
      },
      "outputs": [
        {
          "name": "stdout",
          "output_type": "stream",
          "text": [
            "True\n",
            "False\n",
            "True\n",
            "False\n"
          ]
        }
      ],
      "source": [
        "##Operadores de Comparacion\n",
        "###\n",
        "#== si una variable es igual a otra\n",
        "A=4\n",
        "B=4\n",
        "print(A==B)\n",
        "##<= menor o igual\n",
        "A=4\n",
        "B=3.999\n",
        "print(A<=B)\n",
        "##>= mayor o igual\n",
        "A=4\n",
        "B=3.999\n",
        "print(A>=B)\n",
        "#!= distinto\n",
        "A=4\n",
        "B=4\n",
        "print(A!=B)"
      ]
    },
    {
      "cell_type": "code",
      "execution_count": null,
      "metadata": {
        "colab": {
          "base_uri": "https://localhost:8080/"
        },
        "id": "px98We23s6xw",
        "outputId": "96c52040-221e-48a3-9385-5fd2ae021c5e"
      },
      "outputs": [
        {
          "name": "stdout",
          "output_type": "stream",
          "text": [
            "Ingrese su edad:20\n",
            "La persona es mayor de edad Daniel\n",
            "Fin del Porgrama\n"
          ]
        }
      ],
      "source": [
        "#Condicionales\n",
        "#IF ELSE\n",
        "Edad_A=int(input(\"Ingrese su edad:\"))# El dato Int convierte a tipo entero\n",
        "\n",
        "if Edad_A >=18 :\n",
        "  Nombre= \"Daniel\"\n",
        "  print(\"La persona es mayor de edad\", Nombre)\n",
        "else:\n",
        "  print(\"La persona es menor de edad\")\n",
        "  A= 4\n",
        "  B= 23\n",
        "  C= 24\n",
        "  print(A+B+C)\n",
        "print(\"Fin del Porgrama\")\n",
        "\n"
      ]
    },
    {
      "cell_type": "code",
      "execution_count": null,
      "metadata": {
        "colab": {
          "base_uri": "https://localhost:8080/"
        },
        "id": "2CPJRNrVwVXV",
        "outputId": "f0f2f9ad-7126-4c62-a710-7ee2badac79c"
      },
      "outputs": [
        {
          "name": "stdout",
          "output_type": "stream",
          "text": [
            "Ingrese su nombre:Juan\n",
            "Ingreso denegado\n",
            "Fin del programa\n"
          ]
        }
      ],
      "source": [
        "##condicional if-elif-else\n",
        "Nombre=input(\"Ingrese su nombre:\")\n",
        "\n",
        "if Nombre == \"David\":\n",
        "  print(\"ingreso autorizado,\",Nombre, \"Bienvenido usted puede entrar\")\n",
        "elif Nombre == \"Daniela\":\n",
        "  print(\"ingreso autorizado\", \"Bienvenida:\", Nombre)\n",
        "else:\n",
        "  print(\"Ingreso denegado\")\n",
        "print(\"Fin del programa\")"
      ]
    },
    {
      "cell_type": "code",
      "execution_count": null,
      "metadata": {
        "colab": {
          "base_uri": "https://localhost:8080/"
        },
        "id": "GDyMoH_FzoZK",
        "outputId": "6bd91b60-7c4d-4b57-fc1c-46ad2ea3cd82"
      },
      "outputs": [
        {
          "name": "stdout",
          "output_type": "stream",
          "text": [
            "Viper\n",
            "0\n",
            "Viper\n",
            "1\n"
          ]
        }
      ],
      "source": [
        "#Bucles en pyhton\n",
        "#FOR\n",
        "\n",
        "for Contador in range(2):\n",
        "  print(\"Viper\")\n",
        "  print(Contador)\n"
      ]
    },
    {
      "cell_type": "code",
      "execution_count": null,
      "metadata": {
        "colab": {
          "base_uri": "https://localhost:8080/"
        },
        "id": "yh42Onn04ZKJ",
        "outputId": "4c52c629-b833-4a86-8436-65a92b9dc873"
      },
      "outputs": [
        {
          "name": "stdout",
          "output_type": "stream",
          "text": [
            "Perro Es una mascota\n",
            "Gato Es una mascota\n",
            "3 No es una mascota\n",
            "8 No es una mascota\n",
            "casas No es una mascota\n"
          ]
        }
      ],
      "source": [
        "# Ciclo For recorrido de datos\n",
        "#FOR\n",
        "Datos = [\"Perro\", \"Gato\", 3, 8, \"casas\"]\n",
        "for x in Datos:\n",
        "  if x== \"Perro\" or x== \"Gato\":\n",
        "    print(x, \"Es una mascota\")\n",
        "  else:\n",
        "    print(x, \"No es una mascota\")"
      ]
    },
    {
      "cell_type": "code",
      "execution_count": null,
      "metadata": {
        "colab": {
          "base_uri": "https://localhost:8080/"
        },
        "id": "jFiy_Zg21tTz",
        "outputId": "0c02e5b6-c7ae-4813-bb44-9de1358e98a2"
      },
      "outputs": [
        {
          "name": "stdout",
          "output_type": "stream",
          "text": [
            "La bomba va a explotar en: 5\n",
            "La bomba va a explotar en: 4\n",
            "La bomba va a explotar en: 3\n",
            "La bomba va a explotar en: 2\n",
            "La bomba va a explotar en: 1\n",
            "BOOMMM\n"
          ]
        }
      ],
      "source": [
        "#WHILE\n",
        "\n",
        "contador = 5\n",
        "while contador >= 1:\n",
        "    print(\"La bomba va a explotar en:\", contador)\n",
        "    contador -= 1\n",
        "\n",
        "print(\"BOOMMM\")\n"
      ]
    },
    {
      "cell_type": "code",
      "execution_count": null,
      "metadata": {
        "colab": {
          "base_uri": "https://localhost:8080/"
        },
        "id": "Vu2juQY8KLQU",
        "outputId": "acc731ca-08fa-423e-ecaa-59a11be89202"
      },
      "outputs": [
        {
          "name": "stdout",
          "output_type": "stream",
          "text": [
            "Hola\n",
            "Hola\n",
            "Hola\n",
            "Hola\n",
            "Hola\n",
            "Hola\n",
            "Fin del programa\n"
          ]
        }
      ],
      "source": [
        "##bucle infinito con break\n",
        "numero=0\n",
        "while True:\n",
        "\n",
        "  print(\"Hola\")\n",
        "  if numero == 5:\n",
        "    break\n",
        "  numero +=1 #incrementa la variable en 1\n",
        "print(\"Fin del programa\")"
      ]
    },
    {
      "cell_type": "code",
      "execution_count": null,
      "metadata": {
        "colab": {
          "base_uri": "https://localhost:8080/"
        },
        "id": "akOVInFnKu0m",
        "outputId": "3599fd8a-9f09-4fda-b284-099613e363d6"
      },
      "outputs": [
        {
          "name": "stdout",
          "output_type": "stream",
          "text": [
            "Elemento es igual a casa\n",
            "casa\n",
            "ciudad es igual a cali\n",
            "cali\n",
            "color es igual a cafe\n"
          ]
        }
      ],
      "source": [
        "diccionario={\"Elemento\":\"casa\",\n",
        "             \"ciudad\":\"cali\",\n",
        "             \"color\":\"cafe\",\n",
        "             \"pais\":\"colombia\",\n",
        "             \"numero\":2025}\n",
        "while True:\n",
        "  for clave, valor in diccionario.items():\n",
        "    print(clave, \"es igual a\", valor)\n",
        "    if valor == \"cafe\":\n",
        "      break\n",
        "    print(valor)\n",
        "  break"
      ]
    },
    {
      "cell_type": "code",
      "execution_count": null,
      "metadata": {
        "colab": {
          "base_uri": "https://localhost:8080/"
        },
        "id": "BSiX2FhNLoNp",
        "outputId": "5309d0a8-6397-4bd5-d823-84f68509bf94"
      },
      "outputs": [
        {
          "name": "stdout",
          "output_type": "stream",
          "text": [
            "Lambo\n",
            "Porsche\n",
            "Mclaren\n"
          ]
        }
      ],
      "source": [
        "Carros=['Lambo','Porsche','Mclaren','Ferrari']\n",
        "while True:\n",
        "  for x in Carros:\n",
        "    print(x)\n",
        "    if x == 'Mclaren':\n",
        "     break\n",
        "  break"
      ]
    },
    {
      "cell_type": "code",
      "execution_count": null,
      "metadata": {
        "colab": {
          "base_uri": "https://localhost:8080/"
        },
        "id": "LeIqLdcH3MFc",
        "outputId": "df46d3d4-a456-437c-8e8f-703559bcb52e"
      },
      "outputs": [
        {
          "name": "stdout",
          "output_type": "stream",
          "text": [
            "1\n",
            "2\n",
            "3\n",
            "4\n",
            "5\n"
          ]
        }
      ],
      "source": [
        "#Break\n",
        "\n",
        "for num in range(1, 10):\n",
        "    if num == 6:\n",
        "\n",
        "        break\n",
        "    print(num)"
      ]
    },
    {
      "cell_type": "code",
      "execution_count": null,
      "metadata": {
        "colab": {
          "base_uri": "https://localhost:8080/"
        },
        "id": "zrgY5Im4_phe",
        "outputId": "daddb6ab-8668-44dd-80f5-dd5d3e17b07d"
      },
      "outputs": [
        {
          "name": "stdout",
          "output_type": "stream",
          "text": [
            "1\n",
            "2\n",
            "4\n",
            "5\n"
          ]
        }
      ],
      "source": [
        "#Continue\n",
        "for num in range(1, 6):\n",
        "    if num == 3:\n",
        "        continue\n",
        "    print(num)"
      ]
    },
    {
      "cell_type": "code",
      "execution_count": null,
      "metadata": {
        "colab": {
          "base_uri": "https://localhost:8080/"
        },
        "id": "reIPShD7_68-",
        "outputId": "409619d1-b253-4aa5-bc61-faccbbbc2e41"
      },
      "outputs": [
        {
          "name": "stdout",
          "output_type": "stream",
          "text": [
            "U\n",
            "n\n",
            "i\n",
            "v\n",
            "e\n",
            "r\n",
            "s\n",
            "i\n",
            "d\n",
            "a\n",
            "d\n",
            " \n",
            "d\n",
            "e\n",
            " \n",
            "l\n",
            "a\n",
            " \n",
            "S\n",
            "a\n",
            "l\n",
            "l\n",
            "e\n"
          ]
        }
      ],
      "source": [
        "#Recorrer  una cadena carecteres\n",
        "\n",
        "Universidad= \"Universidad de la Salle\"\n",
        "for x in Universidad:\n",
        "  print(x)"
      ]
    },
    {
      "cell_type": "code",
      "execution_count": null,
      "metadata": {
        "colab": {
          "base_uri": "https://localhost:8080/"
        },
        "id": "nPfxo2B1BH_E",
        "outputId": "522947e7-af15-4e3f-8e98-66b2704e3273"
      },
      "outputs": [
        {
          "name": "stdout",
          "output_type": "stream",
          "text": [
            "Nombre es igual a Juan\n",
            "Apellido es igual a Escobar\n",
            "Edad es igual a 20\n",
            "Genero es igual a Masculino\n"
          ]
        }
      ],
      "source": [
        "#Ciclo para correr diccionarios\n",
        "Informacion={\"Nombre\": \"Juan\", \"Apellido\": \"Escobar\", \"Edad\": 20,\"Genero\": \"Masculino\"}\n",
        "for clave,valor in Informacion.items():\n",
        "  print(clave, \"es igual a\", valor)"
      ]
    },
    {
      "cell_type": "markdown",
      "metadata": {
        "id": "FnM_P-w4j9m7"
      },
      "source": [
        "Clase 25 de octubre\n",
        "Ejercicio\n",
        "\n",
        "Algoritmos\n",
        "\n",
        " Escibra un porgrama que pida al usuario el capital inicial invertido, la tasa de interes anual(en %), y los años de inversion. Usa un bucle for para calcular y mostrar el valor del capital acumulado año por año (interes compuesto)"
      ]
    },
    {
      "cell_type": "code",
      "execution_count": null,
      "metadata": {
        "colab": {
          "base_uri": "https://localhost:8080/"
        },
        "id": "khQyM-OzrNh2",
        "outputId": "a0f1e7bc-72ba-4e2f-c137-91a061b66390"
      },
      "outputs": [
        {
          "name": "stdout",
          "output_type": "stream",
          "text": [
            "Ingrese el capital inicial: 10000000\n",
            "Ingrese la tasa de interés anual (%): 12\n",
            "Ingrese los años de inversión: 13\n",
            "Año 1: $11200000.00\n",
            "Año 2: $12544000.00\n",
            "Año 3: $14049280.00\n",
            "Año 4: $15735193.60\n",
            "Año 5: $17623416.83\n",
            "Año 6: $19738226.85\n",
            "Año 7: $22106814.07\n",
            "Año 8: $24759631.76\n",
            "Año 9: $27730787.57\n",
            "Año 10: $31058482.08\n",
            "Año 11: $34785499.93\n",
            "Año 12: $38959759.93\n",
            "Año 13: $43634931.12\n"
          ]
        }
      ],
      "source": [
        "## Simulador de inversion v1\n",
        "# Solicitar datos al usuario\n",
        "capital_inicial = float(input(\"Ingrese el capital inicial: \"))\n",
        "tasa_interes = float(input(\"Ingrese la tasa de interés anual (%): \"))\n",
        "anios = int(input(\"Ingrese los años de inversión: \"))\n",
        "# Calcular año por año\n",
        "capital = capital_inicial\n",
        "for i in range(1, anios + 1):\n",
        "  capital *= (1 + tasa_interes / 100)\n",
        "  print(f\"Año {i}: ${capital:.2f}\")"
      ]
    },
    {
      "cell_type": "code",
      "execution_count": null,
      "metadata": {
        "colab": {
          "base_uri": "https://localhost:8080/"
        },
        "id": "K0oy0tzgxpHO",
        "outputId": "3bd419c3-54da-4d93-d870-f4be405afa77"
      },
      "outputs": [
        {
          "name": "stdout",
          "output_type": "stream",
          "text": [
            "Bienvenido a la calculadora de capital acumulado\n",
            "ingrese su capital inicial invertido:10000000\n",
            "ingrese la tasa de interes anual en %:12\n",
            "ingrese los años de inversion:12\n",
            "El capital obtenido en el año 1 es: 11200000.00\n",
            "El capital obtenido en el año 2 es: 12544000.00\n",
            "El capital obtenido en el año 3 es: 14049280.00\n",
            "El capital obtenido en el año 4 es: 15735193.60\n",
            "El capital obtenido en el año 5 es: 17623416.83\n",
            "El capital obtenido en el año 6 es: 19738226.85\n",
            "El capital obtenido en el año 7 es: 22106814.07\n",
            "El capital obtenido en el año 8 es: 24759631.76\n",
            "El capital obtenido en el año 9 es: 27730787.57\n",
            "El capital obtenido en el año 10 es: 31058482.08\n",
            "El capital obtenido en el año 11 es: 34785499.93\n",
            "El capital obtenido en el año 12 es: 38959759.93\n",
            "El capital final acumulado es: 38959759.92546981\n"
          ]
        }
      ],
      "source": [
        "##Simulador de inversion v2\n",
        "print(\"Bienvenido a la calculadora de capital acumulado\")\n",
        "Capital = int(input(\"ingrese su capital inicial invertido:\"))\n",
        "Tasa = float(input(\"ingrese la tasa de interes anual en %:\"))/100 ##convertimos a %\n",
        "Años = int( input(\"ingrese los años de inversion:\"))\n",
        "\n",
        "for x in range(Años):\n",
        "  Capital_F=Capital*(1+Tasa)\n",
        "  print(\"El capital obtenido en el año\",x+1, 'es:', f'{Capital_F:.2f}')## 2f solo publica 2 decimales\n",
        "  Capital=Capital_F\n",
        "print(\"El capital final acumulado es:\", Capital)"
      ]
    },
    {
      "cell_type": "markdown",
      "metadata": {
        "id": "7sxF4liSyHA_"
      },
      "source": [
        "Ejercicio 2\n",
        "\n",
        "Solicita el usuario su puntaje crediticio (entre 300 y 850 ). Usa una estrucutura if - elif - else para clasificarse\n",
        "\n",
        "\n",
        "*   \"Riesgo alto\" si es menor de 850\n",
        "*   \"Riesgo medio\" si esta entre 580 y 699\n",
        "*   \"Riesgo Bajo\"  si es 700 o mas\n",
        "\n",
        "\n",
        "\n",
        "\n",
        "\n",
        "\n"
      ]
    },
    {
      "cell_type": "code",
      "execution_count": null,
      "metadata": {
        "colab": {
          "base_uri": "https://localhost:8080/"
        },
        "id": "Q5-DY_K9y4R4",
        "outputId": "d2908bd3-0d80-4813-dad1-a95af1e36564"
      },
      "outputs": [
        {
          "name": "stdout",
          "output_type": "stream",
          "text": [
            "Bienvenido a Rappi card black\n",
            "Ingresa tu puntaje crediticio (entre 300 y 850): 20\n",
            "Ingrese un puntaje valido,Vuelva en dos meses para intertar de nuevo :(\n"
          ]
        }
      ],
      "source": [
        "# Solicitar puntaje al usuario\n",
        "print(\"Bienvenido a Rappi card black\")\n",
        "puntaje = int(input(\"Ingresa tu puntaje crediticio (entre 300 y 850): \"))\n",
        "\n",
        "# Clasificación según el puntaje\n",
        "if puntaje >=300 and puntaje< 580:\n",
        "    print(\"Riesgo alto\")\n",
        "elif puntaje >= 580 and puntaje <= 699:\n",
        "    print(\"Riesgo medio\")\n",
        "elif puntaje <300 or puntaje>850:\n",
        "  print(\"Ingrese un puntaje valido,Vuelva en dos meses para intertar de nuevo :(\")\n",
        "else:\n",
        "    print(\"Riesgo bajo\")"
      ]
    },
    {
      "cell_type": "markdown",
      "metadata": {
        "id": "ADhhlglG4rso"
      },
      "source": [
        "Ejercicio 3\n",
        "Solicita al usuario ingresar los valores del PIB de un pais durante los ultimos 5 años.Usa un bucle for para calcular y mostrar el porcentaje de crecimiento o decrecimiento entre años consecutivos"
      ]
    },
    {
      "cell_type": "code",
      "execution_count": null,
      "metadata": {
        "colab": {
          "base_uri": "https://localhost:8080/"
        },
        "id": "hCmsF49Z4rO5",
        "outputId": "79c02238-78b6-41bd-93a6-2d08f498c5a1"
      },
      "outputs": [
        {
          "name": "stdout",
          "output_type": "stream",
          "text": [
            "Ingrese el PIB del año 1: 486\n",
            "Ingrese el PIB del año 2: 286\n",
            "Ingrese el PIB del año 3: 277\n",
            "Ingrese el PIB del año 4: 83\n",
            "Ingrese el PIB del año 5: 33\n",
            "Porcentaje de crecimiento o decrecimiento\n",
            "Decrecimiento del año 1 al año 2: -41.15%\n",
            "Decrecimiento del año 2 al año 3: -3.15%\n",
            "Decrecimiento del año 3 al año 4: -70.04%\n",
            "Decrecimiento del año 4 al año 5: -60.24%\n"
          ]
        }
      ],
      "source": [
        "# Solicitar los valores del PIB de los últimos 5 años\n",
        "pib = []  # lista para guardar los valores\n",
        "\n",
        "for i in range(1,6):\n",
        "    valor = float(input(f\"Ingrese el PIB del año {i}: \"))\n",
        "    pib.append(valor)## acumula uno tras otro para formar vector\n",
        "\n",
        "print(\"Porcentaje de crecimiento o decrecimiento\")\n",
        "\n",
        "# Calcular el crecimiento o decrecimiento entre años consecutivos\n",
        "for i in range(1, 5):\n",
        "    crecimiento = ((pib[i] - pib[i - 1]) / pib[i - 1]) * 100\n",
        "    if crecimiento > 0:\n",
        "        print(f\"Crecimiento del año {i} al año {i + 1}: {crecimiento:.2f}%\")\n",
        "    elif crecimiento < 0:\n",
        "        print(f\"Decrecimiento del año {i} al año {i + 1}: {crecimiento:.2f}%\")\n",
        "    else:\n",
        "        print(f\"Sin Cambio del año {i} al año {i + 1}: {crecimiento:.2f}%\")\n"
      ]
    },
    {
      "cell_type": "code",
      "execution_count": null,
      "metadata": {
        "colab": {
          "background_save": true,
          "base_uri": "https://localhost:8080/"
        },
        "id": "H2PlCgMyNGTQ",
        "outputId": "c847523b-5443-4365-82da-2138e09bdf48"
      },
      "outputs": [
        {
          "name": "stdout",
          "output_type": "stream",
          "text": [
            "-1.48\n",
            "567.27\n",
            "-85.01\n",
            "0.30\n"
          ]
        }
      ],
      "source": [
        "#Version 2 del ejercicio\n",
        "pib = []  # lista para guardar los valores\n",
        "\n",
        "for i in range(1,6):\n",
        "    valor = float(input(f\"Ingrese el PIB del año {i}: \"))\n",
        "    pib.append(valor)## acumula uno tras otro para formar vector\n",
        "for n in range(4):\n",
        "\n",
        "  cambio = ((pib[n+1] - pib[n])* 100 / pib[n])\n",
        "\n",
        "  print(f\"{cambio:.2f}\")"
      ]
    },
    {
      "cell_type": "markdown",
      "metadata": {
        "id": "PwfmczC-Kdlv"
      },
      "source": [
        "Ejercicio 4\n",
        "\n",
        "Un usuario solicita un prestamo de cierta cantidad con una tasa fija fija de interes y numero de cuotas de mensuales. El programa debe calcular, usando un bucle while,como se ve reduciendo el saldo mes a mes y mostrar la tabla de pagos (cuota,interes,saldo restante)"
      ]
    },
    {
      "cell_type": "code",
      "execution_count": null,
      "metadata": {
        "id": "Xw7-X-64Ie04"
      },
      "outputs": [],
      "source": [
        "# Solicitar datos al usuario v1 ANUAL\n",
        "prestamo = float(input(\"Ingrese el monto del préstamo: \"))\n",
        "tasa_interes = float(input(\"Ingrese la tasa de interés anual (%): \"))\n",
        "cuotas = int(input(\"Ingrese el número de cuotas mensuales: \"))\n",
        "\n",
        "# Calcular tasa de interés mensual\n",
        "tasa_mensual =(1+tasa_interes)**(1/12)-1\n",
        "cuota = prestamo * (tasa_mensual * (1 + tasa_mensual) ** cuotas) / ((1 + tasa_mensual) ** cuotas - 1)\n",
        "saldo = prestamo\n",
        "mes = 1\n",
        "\n",
        "print(\"\\nTabla de pagos:\")\n",
        "print(\"Mes\\t|Cuota\\t|\\tInterés\\t|\\tAbono\\t|\\tSaldo restante\")\n",
        "\n",
        "# Bucle while para mostrar mes a mes\n",
        "while mes <= cuotas:\n",
        "    interes = saldo * tasa_mensual\n",
        "    abono_capital = cuota - interes\n",
        "    saldo -= abono_capital\n",
        "\n",
        "    print(f\"{mes}\\t|${cuota:,.2f}\\t|${interes:,.2f}\\t|${abono_capital:,.2f}\\t|${saldo:,.2f}\")\n",
        "\n",
        "    mes += 1\n",
        "\n"
      ]
    },
    {
      "cell_type": "code",
      "execution_count": null,
      "metadata": {
        "id": "ctQSLoWI6P1j"
      },
      "outputs": [],
      "source": [
        "#Simulador de prestamo v2 Mensual\n",
        "print(\"Simulador de Préstamo - Tabla de Amortización\")\n",
        "\n",
        "v_prestamo = float(input(\"Ingrese el valor de su préstamo: \"))\n",
        "tasa = float(input(\"Ingrese la tasa de interés mensual (%): \")) / 100\n",
        "cuotas = int(input(\"Ingrese el número de cuotas mensuales: \"))\n",
        "\n",
        "# Fórmula de la cuota fija\n",
        "Cuota_Fija = v_prestamo * (tasa * (1 + tasa) ** cuotas) / ((1 + tasa) ** cuotas - 1)\n",
        "\n",
        "print(f\"\\nLa Cuota mensual para este préstamo es: {Cuota_Fija:.2f}\\n\")\n",
        "\n",
        "saldo = v_prestamo\n",
        "n_cuota = 1\n",
        "\n",
        "print(\"Cuota | Interés | Amortización | Saldo restante\")\n",
        "print(\"-----------------------------------------------\")\n",
        "\n",
        "while saldo > 0 and n_cuota <= cuotas:\n",
        "    interes = saldo * tasa\n",
        "    amortizacion = Cuota_Fija - interes\n",
        "    saldo -= amortizacion\n",
        "    if saldo < 0: saldo = 0\n",
        "    print(f\"{n_cuota:5} | {interes:8.2f} | {amortizacion:13.2f} | {saldo:15.2f}\")\n",
        "    n_cuota += 1"
      ]
    },
    {
      "cell_type": "markdown",
      "metadata": {
        "id": "ioSzSnDnCkxc"
      },
      "source": [
        "Funciones de Python"
      ]
    },
    {
      "cell_type": "code",
      "execution_count": null,
      "metadata": {
        "id": "92hF-dpD65pu"
      },
      "outputs": [],
      "source": [
        "##una funcion se define con las letras \"def\"\n",
        "def calculadora_de_inversion(Capital,Tasa,Años):\n",
        "  Tasa=Tasa/100 ##convertimos a %\n",
        "  for x in range(Años):\n",
        "    Capital_F=Capital*(1+Tasa)\n",
        "    print(\"El capital obtenido en el año\",x+1, 'es:', f'{Capital_F:.2f}')## 2f solo publica 2 decimales\n",
        "    Capital=Capital_F\n",
        "  return Capital_F\n",
        "  print(\"El capital final acumulado es:\", Capital)"
      ]
    },
    {
      "cell_type": "code",
      "execution_count": null,
      "metadata": {
        "id": "spQ0p8LrLduu"
      },
      "outputs": [],
      "source": [
        "calculadora_de_inversion(25000,1.5,5)"
      ]
    },
    {
      "cell_type": "code",
      "execution_count": null,
      "metadata": {
        "id": "U4AtQJ5dLnps"
      },
      "outputs": [],
      "source": [
        "A = int(input(\"ingrese su capital inicial invertido:\"))\n",
        "B = float(input(\"ingrese la tasa de interes anual en %:\"))\n",
        "C = int( input(\"ingrese los años de inversion:\"))\n",
        "ganancias=calculadora_de_inversion(A,B,C)\n",
        "print(\"El capital final acumulado es:\", f'{ ganancias:.1f}')"
      ]
    },
    {
      "cell_type": "markdown",
      "metadata": {
        "id": "0lTtNjSGvgYp"
      },
      "source": [
        "Clase de analisis de datos 10-31-2025"
      ]
    },
    {
      "cell_type": "code",
      "execution_count": null,
      "metadata": {
        "id": "sqNwajlam460"
      },
      "outputs": [],
      "source": [
        "def calculo_de_cuotas (v_prestamo, tasa, cuotas):\n",
        "  num= tasa*(1+tasa)**cuotas\n",
        "  den=(1+tasa)**cuotas-1\n",
        "  cuota_fija= v_prestamo*(num/den)\n",
        "  saldo=v_prestamo\n",
        "  print(\"Cuota | Valor cuota | Interes | Saldo\")\n",
        "  n_cuota=1\n",
        "\n",
        "  while saldo > 1 :\n",
        "    interes = saldo * tasa\n",
        "    V_pagar= cuota_fija - interes\n",
        "    saldo = saldo - V_pagar\n",
        "    if saldo < 0: saldo = 0\n",
        "    print(f\"{n_cuota} | {V_pagar:.2f} | {interes:.2f} | {saldo:.2f}\")\n",
        "  n_cuota +=1"
      ]
    },
    {
      "cell_type": "code",
      "execution_count": null,
      "metadata": {
        "id": "eIVyo7qdvE8d"
      },
      "outputs": [],
      "source": [
        "calculo_de_cuotas(9000000,1.5,10)"
      ]
    },
    {
      "cell_type": "markdown",
      "metadata": {
        "id": "U0OwMICZsEkh"
      },
      "source": [
        "Ejercicio\n",
        "\n",
        "Un inversionista deposita 10,000 dolares a una tasa anual del 8% durante 5 año. Cual sera el valor futuro"
      ]
    },
    {
      "cell_type": "code",
      "execution_count": null,
      "metadata": {
        "id": "WCZTnftCuuVu"
      },
      "outputs": [],
      "source": [
        "##Importar libreria math\n",
        "import math\n",
        "\n",
        "inversion= 1000000\n",
        "interes= 0.08\n",
        "tiempo= 5\n",
        "\n",
        "##Funcion math.pow-- ayuda a mirar el valor futuro\n",
        "\n",
        "Valor_futuro=inversion*(math.pow((1+interes),tiempo))\n",
        "print(\"El dinero que obtendra en un futuro sera de:\",Valor_futuro)"
      ]
    },
    {
      "cell_type": "markdown",
      "source": [
        "Ejercicio 2: Calcular la tasa de crecimiento anual promedio (CAGR)\n",
        "\n",
        "Una acción pasa de 120 en 6 años ¿Cual fue su tasa de crecimiento anual? 50 a"
      ],
      "metadata": {
        "id": "QW3AVDvNDCj9"
      }
    },
    {
      "cell_type": "code",
      "source": [
        "valor_inicial =50\n",
        "valor_final=120\n",
        "tiempo= 6\n",
        "\n",
        "## vf/vi\n",
        "##(vf/vi)t\n",
        "\n",
        "tasa_crecimiento= math.pow((valor_final/valor_inicial),1/tiempo)-1\n",
        "print(\"La tasa de crecimiento anual fue de:\", round(tasa_crecimiento*100,2),\"%\")"
      ],
      "metadata": {
        "id": "tcPgY4zuDHqj"
      },
      "execution_count": null,
      "outputs": []
    },
    {
      "cell_type": "markdown",
      "metadata": {
        "id": "SXac_I5vzLb2"
      },
      "source": [
        "\n",
        "La funcion math.log(x,, base) logaritmo(natural o base 10)\n",
        "Ejercio 3\n",
        "Redondear periodos necsarios para alcnzar una meta, una perosa quiere duplicar su inversion al 7% anual , ¿cuantos años necesita?\n",
        "\n",
        "Fórmula: VF=VI(1+R)^T n=log(vf/vi)/log(1+r)\n",
        "\n",
        "\n",
        "\n",
        "\n"
      ]
    },
    {
      "cell_type": "code",
      "execution_count": null,
      "metadata": {
        "id": "AgL_RufqzKE2"
      },
      "outputs": [],
      "source": [
        "tasa = 0.07\n",
        "meta = 2\n",
        "\n",
        "años = math.log(meta) / math.log(1 + tasa)\n",
        "print(f\"Los años requeridos para duplicar la inversión son de {round(años, 2)}\")\n",
        "\n",
        "\n",
        "\n",
        "\n"
      ]
    },
    {
      "cell_type": "markdown",
      "source": [
        "PANDAS Y NUMPY Librerías clave para análisis de datos"
      ],
      "metadata": {
        "id": "9uL_IZTxDPfV"
      }
    },
    {
      "cell_type": "code",
      "source": [
        "##pandas (tablas/excel)\n",
        "import pandas as pd\n",
        "info=[3,5,7,9]\n",
        "datos=pd.Series([3,5,7,9])\n",
        "print(\"estos son los datos de la lista: \\n\", info)\n",
        "print('Esta es una serie:\\n', datos)"
      ],
      "metadata": {
        "colab": {
          "base_uri": "https://localhost:8080/"
        },
        "id": "IoVhfnpCDTvw",
        "outputId": "586de20e-24fb-48d2-a738-7fcf778a6117"
      },
      "execution_count": 45,
      "outputs": [
        {
          "output_type": "stream",
          "name": "stdout",
          "text": [
            "estos son los datos de la lista: \n",
            " [3, 5, 7, 9]\n",
            "Esta es una serie:\n",
            " 0    3\n",
            "1    5\n",
            "2    7\n",
            "3    9\n",
            "dtype: int64\n"
          ]
        }
      ]
    },
    {
      "cell_type": "code",
      "source": [
        "#creamos una serie de datos, con etiquetas\n",
        "precios =pd.Series([3850,3000,3060,3919,2495], index= [\"lun\", \"mar\", \"mier\",\"jue\",\"vie\"], name=\"precio_dolar\")\n",
        "print(precios)"
      ],
      "metadata": {
        "colab": {
          "base_uri": "https://localhost:8080/"
        },
        "id": "OpShDR-sDXpH",
        "outputId": "c86e0991-ce5e-4416-afa3-c2221660a8ba"
      },
      "execution_count": 46,
      "outputs": [
        {
          "output_type": "stream",
          "name": "stdout",
          "text": [
            "lun     3850\n",
            "mar     3000\n",
            "mier    3060\n",
            "jue     3919\n",
            "vie     2495\n",
            "Name: precio_dolar, dtype: int64\n"
          ]
        }
      ]
    },
    {
      "cell_type": "code",
      "source": [
        "##Acceder a la informacion\n",
        "print(precios [\"jue\"])\n",
        "print(precios [2])\n",
        "print(precios [2:4])\n",
        "print(precios[2:])"
      ],
      "metadata": {
        "colab": {
          "base_uri": "https://localhost:8080/"
        },
        "collapsed": true,
        "id": "afj-AehPFq36",
        "outputId": "b97af382-5f49-4ca0-ba00-fc2e95b8296a"
      },
      "execution_count": 47,
      "outputs": [
        {
          "output_type": "stream",
          "name": "stdout",
          "text": [
            "3919\n",
            "3060\n",
            "mier    3060\n",
            "jue     3919\n",
            "Name: precio_dolar, dtype: int64\n",
            "mier    3060\n",
            "jue     3919\n",
            "vie     2495\n",
            "Name: precio_dolar, dtype: int64\n"
          ]
        },
        {
          "output_type": "stream",
          "name": "stderr",
          "text": [
            "/tmp/ipython-input-2495532259.py:3: FutureWarning: Series.__getitem__ treating keys as positions is deprecated. In a future version, integer keys will always be treated as labels (consistent with DataFrame behavior). To access a value by position, use `ser.iloc[pos]`\n",
            "  print(precios [2])\n"
          ]
        }
      ]
    },
    {
      "cell_type": "code",
      "source": [
        "#Operaciones Comunes\n",
        "#calculo del promedio\n",
        "promedio_dolar=precios.mean()\n",
        "print(\"El valor de promedio del dolar en la semana fue: \",promedio_dolar)\n",
        "#calculo del valor maximo\n",
        "maximo_dolar=precios.max()\n",
        "print(\"El valor maximo del dolar en la semana fue: \",maximo_dolar)\n",
        "#calculo del valor minimo\n",
        "minimo_dolar=precios.min()\n",
        "print(\"El valor minimo del dolar en la semana fue: \",minimo_dolar)\n",
        "#calculo del cambio porcentual\n",
        "cambio_porcentual=precios.pct_change()\n",
        "print(\"El cambio porcentual del dolar en la semana fue: \",cambio_porcentual)\n",
        "#Calculo de edesviacion estandar\n",
        "desviacion_estandar=precios.std()\n",
        "print(\"La desviacion estandar del dolar en la semana fue: \",desviacion_estandar)\n",
        "#Calculo de varianza\n",
        "varianza=precios.var()\n",
        "print(\"La varianza del dolar en la semana fue: \",varianza)\n",
        "\n"
      ],
      "metadata": {
        "colab": {
          "base_uri": "https://localhost:8080/"
        },
        "collapsed": true,
        "id": "s2ZxwEm8F4iL",
        "outputId": "75f50f91-f75d-443a-a8b0-54fabb16ab00"
      },
      "execution_count": 51,
      "outputs": [
        {
          "output_type": "stream",
          "name": "stdout",
          "text": [
            "El valor de promedio del dolar en la semana fue:  3264.8\n",
            "El valor maximo del dolar en la semana fue:  3919\n",
            "El valor minimo del dolar en la semana fue:  2495\n",
            "El cambio porcentual del dolar en la semana fue:  lun          NaN\n",
            "mar    -0.220779\n",
            "mier    0.020000\n",
            "jue     0.280719\n",
            "vie    -0.363358\n",
            "Name: precio_dolar, dtype: float64\n",
            "La desviacion estandar del dolar en la semana fue:  607.266580671125\n",
            "La varianza del dolar en la semana fue:  368772.7\n"
          ]
        }
      ]
    },
    {
      "cell_type": "code",
      "source": [
        "#Creacion de data frame - Datos de ventas\n",
        "datos = {\n",
        "    \"Semana 1\": [13, 12, 13.4, 14.9, 15.9],\n",
        "    \"Semana 2\": [12.3, 12.4, 15.9, 13.9, 19.8]\n",
        "}\n",
        "\n",
        "data_frame = pd.DataFrame(datos, index=[\"lun\",\"mar\",\"mier\",\"juev\",\"vier\"])\n",
        "print(data_frame)\n"
      ],
      "metadata": {
        "colab": {
          "base_uri": "https://localhost:8080/"
        },
        "id": "ZiblvoQZMRwh",
        "outputId": "8b766a6d-f437-4634-b733-80d2c6a79153"
      },
      "execution_count": 57,
      "outputs": [
        {
          "output_type": "stream",
          "name": "stdout",
          "text": [
            "      Semana 1  Semana 2\n",
            "lun       13.0      12.3\n",
            "mar       12.0      12.4\n",
            "mier      13.4      15.9\n",
            "juev      14.9      13.9\n",
            "vier      15.9      19.8\n"
          ]
        }
      ]
    },
    {
      "cell_type": "code",
      "source": [
        "##Encontrar promedio de ventas\n",
        "print(\"promedio de venta de la semana 1 fue:\", data_frame[\"Semana 1\"].mean())\n",
        "print(\"promedio de venta de la semana 2 fue:\", data_frame[\"Semana 2\"].mean())"
      ],
      "metadata": {
        "colab": {
          "base_uri": "https://localhost:8080/"
        },
        "id": "ymIppEYMSPNl",
        "outputId": "b3124ffc-2e89-4e73-ad54-c82dd15f12c6"
      },
      "execution_count": 60,
      "outputs": [
        {
          "output_type": "stream",
          "name": "stdout",
          "text": [
            "promedio de venta de la semana 1 fue: 13.84\n",
            "promedio de venta de la semana 2 fue: 14.86\n"
          ]
        }
      ]
    },
    {
      "cell_type": "code",
      "source": [
        "#adicionar columnas\n",
        "data_frame[\"Round_S1\"]=data_frame[\"Semana 1\"].pct_change()*100\n",
        "data_frame[\"Round_S2\"]=data_frame[\"Semana 2\"].pct_change()*100\n",
        "\n",
        "print(data_frame)"
      ],
      "metadata": {
        "colab": {
          "base_uri": "https://localhost:8080/"
        },
        "id": "Qfqc6fLNS4T9",
        "outputId": "bfb00f24-2c56-4490-c0fb-2650439d5938"
      },
      "execution_count": 61,
      "outputs": [
        {
          "output_type": "stream",
          "name": "stdout",
          "text": [
            "      Semana 1  Semana 2   Round_S1   Round_S2\n",
            "lun       13.0      12.3        NaN        NaN\n",
            "mar       12.0      12.4  -7.692308   0.813008\n",
            "mier      13.4      15.9  11.666667  28.225806\n",
            "juev      14.9      13.9  11.194030 -12.578616\n",
            "vier      15.9      19.8   6.711409  42.446043\n"
          ]
        }
      ]
    }
  ],
  "metadata": {
    "colab": {
      "provenance": [],
      "authorship_tag": "ABX9TyOI4zKD+J2d9uw+VkQOUCS7",
      "include_colab_link": true
    },
    "kernelspec": {
      "display_name": "Python 3",
      "name": "python3"
    },
    "language_info": {
      "name": "python"
    }
  },
  "nbformat": 4,
  "nbformat_minor": 0
}